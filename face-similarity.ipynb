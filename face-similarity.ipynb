{
 "cells": [
  {
   "cell_type": "code",
   "execution_count": 1,
   "metadata": {},
   "outputs": [],
   "source": [
    "import collections\n",
    "import json\n",
    "from faces import *\n",
    "from morphing import *\n",
    "from metrics import *\n",
    "from utils import *"
   ]
  },
  {
   "cell_type": "code",
   "execution_count": 2,
   "metadata": {},
   "outputs": [],
   "source": [
    "MALES = {\n",
    "    'ryan': ryan_resized,\n",
    "    'roger': roger_resized,\n",
    "    'darren': darren_resized,\n",
    "    'jared': jared_resized,\n",
    "    'ryano': ryano_resized,\n",
    "    'nico': nico_resized,\n",
    "    'peter': peter_resized\n",
    "}\n",
    "\n",
    "FEMALES = {\n",
    "    'linda': linda_resized,\n",
    "    'amanda': amanda_resized,\n",
    "    'rachelle': rachelle_resized,\n",
    "    'brittany': brittany_resized,\n",
    "    'sam': sam_resized,\n",
    "    'steph': steph_resized,\n",
    "    'conchi': conchi_resized\n",
    "}\n",
    "\n",
    "BAKERS = {\n",
    "    'ryan': ryan_resized,\n",
    "    'roger': roger_resized,\n",
    "    'darren': darren_resized,\n",
    "    'linda': linda_resized,\n",
    "    'rachelle': rachelle_resized,\n",
    "    'brittany': brittany_resized,\n",
    "    'steph': steph_resized\n",
    "}\n",
    "\n",
    "NON_BAKERS = {\n",
    "    'jared': jared_resized,\n",
    "    'ryano': ryano_resized,\n",
    "    'nico': nico_resized,\n",
    "    'peter': peter_resized,\n",
    "    'amanda': amanda_resized,\n",
    "    'sam': sam_resized,\n",
    "    'conchi': conchi_resized\n",
    "}\n",
    "\n",
    "OGDENS = {\n",
    "    'ryano': ryano_resized,\n",
    "    'nico': nico_resized,\n",
    "    'peter': peter_resized,\n",
    "    'sam': sam_resized,\n",
    "    'conchi': conchi_resized\n",
    "}\n",
    "\n",
    "NON_OGDENS = {\n",
    "    'ryan': ryan_resized,\n",
    "    'roger': roger_resized,\n",
    "    'darren': darren_resized,\n",
    "    'jared': jared_resized,\n",
    "    'linda': linda_resized,\n",
    "    'amanda': amanda_resized,\n",
    "    'rachelle': rachelle_resized,\n",
    "    'brittany': brittany_resized,\n",
    "    'steph': steph_resized\n",
    "}\n",
    "\n",
    "EVERYONE = {\n",
    "    'ryan': ryan_resized,\n",
    "    'roger': roger_resized,\n",
    "    'darren': darren_resized,\n",
    "    'jared': jared_resized,\n",
    "    'linda': linda_resized,\n",
    "    'amanda': amanda_resized,\n",
    "    'rachelle': rachelle_resized,\n",
    "    'brittany': brittany_resized,\n",
    "    'steph': steph_resized,\n",
    "    'ryano': ryano_resized,\n",
    "    'nico': nico_resized,\n",
    "    'peter': peter_resized,\n",
    "    'sam': sam_resized,\n",
    "    'conchi': conchi_resized\n",
    "}"
   ]
  },
  {
   "cell_type": "markdown",
   "metadata": {},
   "source": [
    "## Auto Testing"
   ]
  },
  {
   "cell_type": "code",
   "execution_count": 3,
   "metadata": {},
   "outputs": [],
   "source": [
    "def test_similarity(average_faces, test_faces, similarity_funcs, baseline_name):\n",
    "    if not average_faces:\n",
    "        print('No faces given to use as baseline')\n",
    "        return\n",
    "    elif len(average_faces) == 1:\n",
    "        print('Only one face given to use as a baseline')\n",
    "        baseline = average_faces[0]\n",
    "    else:\n",
    "        baseline, _, _ = get_average_face(average_faces[0], average_faces[1])\n",
    "        face_count = 2\n",
    "        for face in average_faces[2:]:\n",
    "            face_count += 1\n",
    "            # Adjust weights so more recent face doesn't have larger say than previous faces\n",
    "            weight = 1 - (1/face_count)\n",
    "            baseline, _, _ = get_average_face(face, baseline, weight=weight)\n",
    "\n",
    "    scores = {}\n",
    "    for name, face in test_faces.items():\n",
    "        similarity = get_face_similarity_test(face, baseline, similarity_funcs)\n",
    "        scores[(name, baseline_name)] = similarity\n",
    "    return scores"
   ]
  },
  {
   "cell_type": "code",
   "execution_count": 4,
   "metadata": {},
   "outputs": [],
   "source": [
    "def test_group(group, outsiders, group_name, testing_funcs):\n",
    "    print(f'Testing outsiders for group {group_name}')\n",
    "    scores = test_similarity(list(group.values()),\n",
    "                             outsiders,\n",
    "                             testing_funcs,\n",
    "                             group_name)\n",
    "    for member in group:\n",
    "        print(f'Testing {member} for group {group_name}')\n",
    "        baseline_group = group.copy()\n",
    "        member_face = baseline_group.pop(member)\n",
    "        test_group = {member: member_face}\n",
    "        member_score = test_similarity(list(baseline_group.values()),\n",
    "                                       test_group,\n",
    "                                       testing_funcs,\n",
    "                                       group_name)\n",
    "        scores.update(member_score)\n",
    "    \n",
    "    return scores\n",
    "        "
   ]
  },
  {
   "cell_type": "code",
   "execution_count": 5,
   "metadata": {},
   "outputs": [],
   "source": [
    "import itertools\n",
    "def test_faces(faces, similarity_funcs):\n",
    "    scores = {}\n",
    "    face_names = list(faces.keys())\n",
    "    combos = itertools.combinations(face_names, 2)\n",
    "    for combo in combos:\n",
    "        name1 = combo[0]\n",
    "        name2 = combo[1]\n",
    "        similarity = get_face_similarity_test(faces[name1], faces[name2], similarity_funcs)\n",
    "        scores[combo] = similarity\n",
    "        print(f'{combo}: {similarity}')\n",
    "    return scores"
   ]
  },
  {
   "cell_type": "markdown",
   "metadata": {},
   "source": [
    "NOTE: The outputs from a previous run of this jupyter notebook are preserved for the next few cells for demonstration, but they do not need to be run to run the remainder of the cells, instead using saved results from file."
   ]
  },
  {
   "cell_type": "code",
   "execution_count": 6,
   "metadata": {
    "scrolled": false
   },
   "outputs": [
    {
     "name": "stdout",
     "output_type": "stream",
     "text": [
      "Testing outsiders for group MALES\n",
      "Testing ryan for group MALES\n",
      "Testing roger for group MALES\n",
      "Testing darren for group MALES\n",
      "Testing jared for group MALES\n",
      "Testing ryano for group MALES\n",
      "Testing nico for group MALES\n",
      "Testing peter for group MALES\n",
      "Testing outsiders for group FEMALES\n",
      "Testing linda for group FEMALES\n",
      "Testing amanda for group FEMALES\n",
      "Testing rachelle for group FEMALES\n",
      "Testing brittany for group FEMALES\n",
      "Testing sam for group FEMALES\n",
      "Testing steph for group FEMALES\n",
      "Testing conchi for group FEMALES\n",
      "Testing outsiders for group BAKERS\n",
      "Testing ryan for group BAKERS\n",
      "Testing roger for group BAKERS\n",
      "Testing darren for group BAKERS\n",
      "Testing linda for group BAKERS\n",
      "Testing rachelle for group BAKERS\n",
      "Testing brittany for group BAKERS\n",
      "Testing steph for group BAKERS\n",
      "Testing outsiders for group OGDENS\n",
      "Testing ryano for group OGDENS\n",
      "Testing nico for group OGDENS\n",
      "Testing peter for group OGDENS\n",
      "Testing sam for group OGDENS\n",
      "Testing conchi for group OGDENS\n"
     ]
    }
   ],
   "source": [
    "# This takes quite a while to run, results are saved in files ./angle-similarity.txt and ./area-similarity.txt\n",
    "# angle_male_results = test_group(MALES, FEMALES, 'MALES', [get_max_angle, get_min_angle])\n",
    "# angle_female_results = test_group(FEMALES, MALES, 'FEMALES', [get_max_angle, get_min_angle])\n",
    "# angle_baker_results = test_group(BAKERS, NON_BAKERS, 'BAKERS', [get_max_angle, get_min_angle])\n",
    "# angle_ogden_results = test_group(OGDENS, NON_OGDENS, 'OGDENS', [get_max_angle, get_min_angle])"
   ]
  },
  {
   "cell_type": "code",
   "execution_count": 7,
   "metadata": {
    "scrolled": false
   },
   "outputs": [
    {
     "name": "stdout",
     "output_type": "stream",
     "text": [
      "Testing outsiders for group MALES\n",
      "Testing ryan for group MALES\n",
      "Testing roger for group MALES\n",
      "Testing darren for group MALES\n",
      "Testing jared for group MALES\n",
      "Testing ryano for group MALES\n",
      "Testing nico for group MALES\n",
      "Testing peter for group MALES\n",
      "Testing outsiders for group FEMALES\n",
      "Testing linda for group FEMALES\n",
      "Testing amanda for group FEMALES\n",
      "Testing rachelle for group FEMALES\n",
      "Testing brittany for group FEMALES\n",
      "Testing sam for group FEMALES\n",
      "Testing steph for group FEMALES\n",
      "Testing conchi for group FEMALES\n",
      "Testing outsiders for group BAKERS\n",
      "Testing ryan for group BAKERS\n",
      "Testing roger for group BAKERS\n",
      "Testing darren for group BAKERS\n",
      "Testing linda for group BAKERS\n",
      "Testing rachelle for group BAKERS\n",
      "Testing brittany for group BAKERS\n",
      "Testing steph for group BAKERS\n",
      "Testing outsiders for group OGDENS\n",
      "Testing ryano for group OGDENS\n",
      "Testing nico for group OGDENS\n",
      "Testing peter for group OGDENS\n",
      "Testing sam for group OGDENS\n",
      "Testing conchi for group OGDENS\n"
     ]
    }
   ],
   "source": [
    "# This takes quite a while to run, results are saved in files ./angle-similarity.txt and ./area-similarity.txt\n",
    "# area_male_results = test_group(MALES, FEMALES, 'MALES', [get_area_percentage])\n",
    "# area_female_results = test_group(FEMALES, MALES, 'FEMALES', [get_area_percentage])\n",
    "# area_baker_results = test_group(BAKERS, NON_BAKERS, 'BAKERS', [get_area_percentage])\n",
    "# area_ogden_results = test_group(OGDENS, NON_OGDENS, 'OGDENS', [get_area_percentage])"
   ]
  },
  {
   "cell_type": "code",
   "execution_count": 8,
   "metadata": {
    "scrolled": true
   },
   "outputs": [
    {
     "name": "stdout",
     "output_type": "stream",
     "text": [
      "('ryan', 'roger'): 0.1467353563029466\n",
      "('ryan', 'darren'): 0.198565003524585\n",
      "('ryan', 'jared'): 0.12334839431498251\n",
      "('ryan', 'linda'): 0.18885296382529757\n",
      "('ryan', 'amanda'): 0.2006049656238639\n",
      "('ryan', 'rachelle'): 0.1842759349449652\n",
      "('ryan', 'brittany'): 0.15338481670226706\n",
      "('ryan', 'steph'): 0.18470090890932908\n",
      "('ryan', 'ryano'): 0.2836865913758797\n",
      "('ryan', 'nico'): 0.13688048614159068\n",
      "('ryan', 'peter'): 0.27665433203006906\n",
      "('ryan', 'sam'): 0.22334694438945846\n",
      "('ryan', 'conchi'): 0.9401212564415741\n",
      "('roger', 'darren'): 0.26886292524939653\n",
      "('roger', 'jared'): 0.21117488421883296\n",
      "('roger', 'linda'): 0.17832936139804506\n",
      "('roger', 'amanda'): 0.2193159806091671\n",
      "('roger', 'rachelle'): 0.16284340590206323\n",
      "('roger', 'brittany'): 0.14276633197221422\n",
      "('roger', 'steph'): 0.19061721956572175\n",
      "('roger', 'ryano'): 0.3429292043233224\n",
      "('roger', 'nico'): 0.1392650665367197\n",
      "('roger', 'peter'): 0.3092194388026185\n",
      "('roger', 'sam'): 0.32413789999348314\n",
      "('roger', 'conchi'): 1.7307839852501266\n",
      "('darren', 'jared'): 0.16569403422406226\n",
      "('darren', 'linda'): 0.18811981530247848\n",
      "('darren', 'amanda'): 0.18787831518711792\n",
      "('darren', 'rachelle'): 0.1785183400165691\n",
      "('darren', 'brittany'): 0.17106173203099634\n",
      "('darren', 'steph'): 0.14923502858053989\n",
      "('darren', 'ryano'): 0.2420159993923071\n",
      "('darren', 'nico'): 0.20541619867233585\n",
      "('darren', 'peter'): 0.20707657970558294\n",
      "('darren', 'sam'): 0.16505022363736596\n",
      "('darren', 'conchi'): 0.9542140952568962\n",
      "('jared', 'linda'): 0.15458274319177268\n",
      "('jared', 'amanda'): 0.1654062101619246\n",
      "('jared', 'rachelle'): 0.18591268164987598\n",
      "('jared', 'brittany'): 0.18082601706278417\n",
      "('jared', 'steph'): 0.19425649539259776\n",
      "('jared', 'ryano'): 0.245547934782398\n",
      "('jared', 'nico'): 0.1161162131208405\n",
      "('jared', 'peter'): 0.29303609289742244\n",
      "('jared', 'sam'): 0.15595034427177876\n",
      "('jared', 'conchi'): 0.7985265620682974\n",
      "('linda', 'amanda'): 0.16595707336041357\n",
      "('linda', 'rachelle'): 0.16602365441187492\n",
      "('linda', 'brittany'): 0.15193234217662624\n",
      "('linda', 'steph'): 0.20105594038987862\n",
      "('linda', 'ryano'): 0.2883874136078345\n",
      "('linda', 'nico'): 0.13750319057046767\n",
      "('linda', 'peter'): 0.28238454912181143\n",
      "('linda', 'sam'): 0.25894049181528717\n",
      "('linda', 'conchi'): 1.4381139875924678\n",
      "('amanda', 'rachelle'): 0.1731543665362667\n",
      "('amanda', 'brittany'): 0.14936236651282303\n",
      "('amanda', 'steph'): 0.17178290408144772\n",
      "('amanda', 'ryano'): 0.298783004664823\n",
      "('amanda', 'nico'): 0.13205324132257076\n",
      "('amanda', 'peter'): 0.29109065933219885\n",
      "('amanda', 'sam'): 0.19896110010896462\n",
      "('amanda', 'conchi'): 1.2307775245961123\n",
      "('rachelle', 'brittany'): 0.16923100158772453\n",
      "('rachelle', 'steph'): 0.1114095046111192\n",
      "('rachelle', 'ryano'): 0.3844342774710983\n",
      "('rachelle', 'nico'): 0.18900921872843418\n",
      "('rachelle', 'peter'): 0.34377358392714297\n",
      "('rachelle', 'sam'): 0.2825384959725552\n",
      "('rachelle', 'conchi'): 1.8265874891951432\n",
      "('brittany', 'steph'): 0.1761532612742097\n",
      "('brittany', 'ryano'): 0.220218055748486\n",
      "('brittany', 'nico'): 0.12812630027879782\n",
      "('brittany', 'peter'): 0.20449356724692447\n",
      "('brittany', 'sam'): 0.230306232480106\n",
      "('brittany', 'conchi'): 1.3272817165419881\n",
      "('steph', 'ryano'): 0.3960487966428502\n",
      "('steph', 'nico'): 0.21279867443127623\n",
      "('steph', 'peter'): 0.37714270179785\n",
      "('steph', 'sam'): 0.26038683733538265\n",
      "('steph', 'conchi'): 1.5887263429033849\n",
      "('ryano', 'nico'): 0.213077297494265\n",
      "('ryano', 'peter'): 0.13895732216527512\n",
      "('ryano', 'sam'): 0.2075888647599497\n",
      "('ryano', 'conchi'): 0.7873922560113218\n",
      "('nico', 'peter'): 0.27051264635064054\n",
      "('nico', 'sam'): 0.21734508480426998\n",
      "('nico', 'conchi'): 1.1254775773228125\n",
      "('peter', 'sam'): 0.24579347713464095\n",
      "('peter', 'conchi'): 0.9521117288707462\n",
      "('sam', 'conchi'): 0.573783135051075\n",
      "('ryan', 'roger'): 0.09971011029429314\n",
      "('ryan', 'darren'): 0.11532784512519668\n",
      "('ryan', 'jared'): 0.07851482875694217\n",
      "('ryan', 'linda'): 0.11590300888242416\n",
      "('ryan', 'amanda'): 0.11724380967271983\n",
      "('ryan', 'rachelle'): 0.1429360764553216\n",
      "('ryan', 'brittany'): 0.11050472209928386\n",
      "('ryan', 'steph'): 0.14359960001734615\n",
      "('ryan', 'ryano'): 0.12218193403473279\n",
      "('ryan', 'nico'): 0.07396667711094908\n",
      "('ryan', 'peter'): 0.13800109624645324\n",
      "('ryan', 'sam'): 0.13406213371368625\n",
      "('ryan', 'conchi'): 0.7434580583789459\n",
      "('roger', 'darren'): 0.12364206867983801\n",
      "('roger', 'jared'): 0.11446106102084261\n",
      "('roger', 'linda'): 0.12270425343245561\n",
      "('roger', 'amanda'): 0.10238558150196611\n",
      "('roger', 'rachelle'): 0.1007424470330916\n",
      "('roger', 'brittany'): 0.09792312979875986\n",
      "('roger', 'steph'): 0.1075834035134869\n",
      "('roger', 'ryano'): 0.17074171298438826\n",
      "('roger', 'nico'): 0.08262855286392218\n",
      "('roger', 'peter'): 0.15079401988245758\n",
      "('roger', 'sam'): 0.14787175137864453\n",
      "('roger', 'conchi'): 0.7141409160468957\n",
      "('darren', 'jared'): 0.0971752059474367\n",
      "('darren', 'linda'): 0.12554126649020297\n",
      "('darren', 'amanda'): 0.10881366179761404\n",
      "('darren', 'rachelle'): 0.12373360334086925\n",
      "('darren', 'brittany'): 0.1054991579010187\n",
      "('darren', 'steph'): 0.11565919984724124\n",
      "('darren', 'ryano'): 0.12488048704109558\n",
      "('darren', 'nico'): 0.12151773276526791\n",
      "('darren', 'peter'): 0.09328739356040935\n",
      "('darren', 'sam'): 0.11064227944465244\n",
      "('darren', 'conchi'): 0.8004940133844292\n",
      "('jared', 'linda'): 0.10576204103267078\n",
      "('jared', 'amanda'): 0.11166353908067111\n",
      "('jared', 'rachelle'): 0.14895823079347403\n",
      "('jared', 'brittany'): 0.12625230192495024\n",
      "('jared', 'steph'): 0.15384213958112652\n",
      "('jared', 'ryano'): 0.12229253857928919\n",
      "('jared', 'nico'): 0.08672573842116452\n",
      "('jared', 'peter'): 0.15257671176979629\n",
      "('jared', 'sam'): 0.12421135295749133\n",
      "('jared', 'conchi'): 0.6794357981005894\n",
      "('linda', 'amanda'): 0.11229657352958837\n",
      "('linda', 'rachelle'): 0.11279946561565837\n",
      "('linda', 'brittany'): 0.10492569682653302\n",
      "('linda', 'steph'): 0.136310961019913\n",
      "('linda', 'ryano'): 0.16079990015480283\n",
      "('linda', 'nico'): 0.11151542769913209\n",
      "('linda', 'peter'): 0.14608354605164853\n",
      "('linda', 'sam'): 0.15631652958423142\n",
      "('linda', 'conchi'): 0.8264891479896803\n",
      "('amanda', 'rachelle'): 0.09452818168170546\n",
      "('amanda', 'brittany'): 0.09351345270913915\n",
      "('amanda', 'steph'): 0.09963120402553292\n",
      "('amanda', 'ryano'): 0.16053520010151706\n",
      "('amanda', 'nico'): 0.09588433563378711\n",
      "('amanda', 'peter'): 0.13602245212560252\n",
      "('amanda', 'sam'): 0.1187158716524114\n",
      "('amanda', 'conchi'): 0.7942142357333337\n",
      "('rachelle', 'brittany'): 0.09677378853630642\n",
      "('rachelle', 'steph'): 0.06517206436095507\n",
      "('rachelle', 'ryano'): 0.19502683983817115\n",
      "('rachelle', 'nico'): 0.1116110974440345\n",
      "('rachelle', 'peter'): 0.15366786907559393\n",
      "('rachelle', 'sam'): 0.13688234318393433\n",
      "('rachelle', 'conchi'): 0.7430792627053642\n",
      "('brittany', 'steph'): 0.10763390774688997\n",
      "('brittany', 'ryano'): 0.150018409596318\n",
      "('brittany', 'nico'): 0.10169966557012222\n",
      "('brittany', 'peter'): 0.11764156515876432\n",
      "('brittany', 'sam'): 0.13027246069898066\n",
      "('brittany', 'conchi'): 0.7879818111425476\n",
      "('steph', 'ryano'): 0.189314507444358\n",
      "('steph', 'nico'): 0.11013183008187707\n",
      "('steph', 'peter'): 0.15187959112488236\n",
      "('steph', 'sam'): 0.12763963944982526\n",
      "('steph', 'conchi'): 0.7411185580617228\n",
      "('ryano', 'nico'): 0.14588498782278395\n",
      "('ryano', 'peter'): 0.11651151823016065\n",
      "('ryano', 'sam'): 0.11675972016630909\n",
      "('ryano', 'conchi'): 0.7251613455694758\n",
      "('nico', 'peter'): 0.14974365880133633\n",
      "('nico', 'sam'): 0.12030426302372166\n",
      "('nico', 'conchi'): 0.7369170523672438\n",
      "('peter', 'sam'): 0.13119596234671071\n",
      "('peter', 'conchi'): 0.759724092496748\n",
      "('sam', 'conchi'): 0.5622447427504615\n"
     ]
    }
   ],
   "source": [
    "# This takes quite a while to run, results are saved in files ./angle-similarity.txt and ./area-similarity.txt\n",
    "# area_ind_results = test_faces(EVERYONE, [get_area_percentage])\n",
    "# angle_ind_results = test_faces(EVERYONE, [get_min_angle, get_max_angle])"
   ]
  },
  {
   "cell_type": "code",
   "execution_count": 10,
   "metadata": {},
   "outputs": [],
   "source": [
    "# Only run once\n",
    "# with open('./angle_similarity.txt', 'w') as filehandle:\n",
    "#     for result in [angle_male_results, angle_female_results, angle_baker_results, angle_ogden_results, angle_ind_results]:\n",
    "#         filehandle.write(f'{result}\\n')\n",
    "# with open('./area_similarity.txt', 'w') as filehandle:\n",
    "#     for result in [area_male_results, area_female_results, area_baker_results, area_ogden_results, area_ind_results]:\n",
    "#         filehandle.write(f'{result}\\n')\n",
    "        "
   ]
  },
  {
   "cell_type": "code",
   "execution_count": 6,
   "metadata": {},
   "outputs": [],
   "source": [
    "# Load saved results instead of running again\n",
    "with open('./angle_similarity.txt', 'r') as filehandle:\n",
    "    angle_results = filehandle.read().split('\\n')\n",
    "with open('./area_similarity.txt', 'r') as filehandle:\n",
    "    area_results = filehandle.read().split('\\n')\n",
    "    \n",
    "def format_similarity_from_text(similarities):\n",
    "    results = {}\n",
    "    items = similarities[1:-1].split(', (')\n",
    "    for item in items:\n",
    "        key, value = item.split(': ')\n",
    "        key = key.replace(\"'\", \"\")\n",
    "        key = key.replace(\")\", \"\")\n",
    "        key = key.replace(\"(\", \"\")\n",
    "        key = tuple(key.split(', '))\n",
    "        results[key] = float(value)\n",
    "    return results\n",
    "\n",
    "angle_male_results = format_similarity_from_text(angle_results[0])\n",
    "angle_female_results = format_similarity_from_text(angle_results[1])\n",
    "angle_baker_results = format_similarity_from_text(angle_results[2])\n",
    "angle_ogden_results = format_similarity_from_text(angle_results[3])\n",
    "angle_ind_results = format_similarity_from_text(angle_results[4])\n",
    "\n",
    "area_male_results = format_similarity_from_text(area_results[0])\n",
    "area_female_results = format_similarity_from_text(area_results[1])\n",
    "area_baker_results = format_similarity_from_text(area_results[2])\n",
    "area_ogden_results = format_similarity_from_text(area_results[3])\n",
    "area_ind_results = format_similarity_from_text(area_results[4])"
   ]
  },
  {
   "cell_type": "code",
   "execution_count": 7,
   "metadata": {},
   "outputs": [],
   "source": [
    "area_group_results = area_male_results.copy()\n",
    "area_group_results.update(area_female_results)\n",
    "area_group_results.update(area_baker_results)\n",
    "area_group_results.update(area_ogden_results)\n",
    "\n",
    "angle_group_results = angle_male_results.copy()\n",
    "angle_group_results.update(angle_female_results)\n",
    "angle_group_results.update(angle_baker_results)\n",
    "angle_group_results.update(angle_ogden_results)"
   ]
  },
  {
   "cell_type": "code",
   "execution_count": null,
   "metadata": {},
   "outputs": [],
   "source": []
  },
  {
   "cell_type": "markdown",
   "metadata": {},
   "source": [
    "#### Individual Similarities"
   ]
  },
  {
   "cell_type": "code",
   "execution_count": 8,
   "metadata": {},
   "outputs": [],
   "source": [
    "angle_bakers_only = []\n",
    "angle_everyone_else = []\n",
    "\n",
    "for faces, value in angle_ind_results.items():\n",
    "    if faces[0] in BAKERS and faces[1] in BAKERS:\n",
    "        angle_bakers_only.append(value)\n",
    "    else:\n",
    "        angle_everyone_else.append(value)"
   ]
  },
  {
   "cell_type": "code",
   "execution_count": 9,
   "metadata": {},
   "outputs": [
    {
     "data": {
      "text/plain": [
       "0.11307741795319456"
      ]
     },
     "execution_count": 9,
     "metadata": {},
     "output_type": "execute_result"
    }
   ],
   "source": [
    "np.mean(angle_bakers_only)"
   ]
  },
  {
   "cell_type": "code",
   "execution_count": 10,
   "metadata": {},
   "outputs": [
    {
     "data": {
      "text/plain": [
       "0.23968488789427478"
      ]
     },
     "execution_count": 10,
     "metadata": {},
     "output_type": "execute_result"
    }
   ],
   "source": [
    "np.mean(angle_everyone_else)"
   ]
  },
  {
   "cell_type": "code",
   "execution_count": 11,
   "metadata": {},
   "outputs": [],
   "source": [
    "area_bakers_only = []\n",
    "area_everyone_else = []\n",
    "\n",
    "for faces, value in area_ind_results.items():\n",
    "    if faces[0] in BAKERS and faces[1] in BAKERS:\n",
    "        area_bakers_only.append(value)\n",
    "    else:\n",
    "        area_everyone_else.append(value)"
   ]
  },
  {
   "cell_type": "code",
   "execution_count": 12,
   "metadata": {},
   "outputs": [
    {
     "data": {
      "text/plain": [
       "0.1744130880323261"
      ]
     },
     "execution_count": 12,
     "metadata": {},
     "output_type": "execute_result"
    }
   ],
   "source": [
    "np.mean(area_bakers_only)"
   ]
  },
  {
   "cell_type": "code",
   "execution_count": 13,
   "metadata": {},
   "outputs": [
    {
     "data": {
      "text/plain": [
       "0.4000019960659565"
      ]
     },
     "execution_count": 13,
     "metadata": {},
     "output_type": "execute_result"
    }
   ],
   "source": [
    "np.mean(area_everyone_else)"
   ]
  },
  {
   "cell_type": "code",
   "execution_count": 14,
   "metadata": {},
   "outputs": [],
   "source": [
    "angle_ogdens_only = []\n",
    "angle_non_ogdens = []\n",
    "\n",
    "for faces, value in angle_ind_results.items():\n",
    "    if faces[0] in OGDENS and faces[1] in OGDENS:\n",
    "        angle_ogdens_only.append(value)\n",
    "    else:\n",
    "        angle_non_ogdens.append(value)"
   ]
  },
  {
   "cell_type": "code",
   "execution_count": 15,
   "metadata": {},
   "outputs": [
    {
     "data": {
      "text/plain": [
       "0.35644473435749513"
      ]
     },
     "execution_count": 15,
     "metadata": {},
     "output_type": "execute_result"
    }
   ],
   "source": [
    "np.mean(angle_ogdens_only)"
   ]
  },
  {
   "cell_type": "code",
   "execution_count": 16,
   "metadata": {},
   "outputs": [
    {
     "data": {
      "text/plain": [
       "0.19244593316100456"
      ]
     },
     "execution_count": 16,
     "metadata": {},
     "output_type": "execute_result"
    }
   ],
   "source": [
    "np.mean(angle_non_ogdens)"
   ]
  },
  {
   "cell_type": "code",
   "execution_count": 17,
   "metadata": {},
   "outputs": [],
   "source": [
    "area_ogdens_only = []\n",
    "area_non_ogdens = []\n",
    "\n",
    "for faces, value in area_ind_results.items():\n",
    "    if faces[0] in OGDENS and faces[1] in OGDENS:\n",
    "        area_ogdens_only.append(value)\n",
    "    else:\n",
    "        area_non_ogdens.append(value)"
   ]
  },
  {
   "cell_type": "code",
   "execution_count": 18,
   "metadata": {},
   "outputs": [
    {
     "data": {
      "text/plain": [
       "0.47320393899649965"
      ]
     },
     "execution_count": 18,
     "metadata": {},
     "output_type": "execute_result"
    }
   ],
   "source": [
    "np.mean(area_ogdens_only)"
   ]
  },
  {
   "cell_type": "code",
   "execution_count": 19,
   "metadata": {},
   "outputs": [
    {
     "data": {
      "text/plain": [
       "0.33247870596704704"
      ]
     },
     "execution_count": 19,
     "metadata": {},
     "output_type": "execute_result"
    }
   ],
   "source": [
    "np.mean(area_non_ogdens)"
   ]
  },
  {
   "cell_type": "code",
   "execution_count": 20,
   "metadata": {},
   "outputs": [],
   "source": [
    "angle_males_only = []\n",
    "angle_non_males = []\n",
    "\n",
    "for faces, value in angle_ind_results.items():\n",
    "    if faces[0] in MALES and faces[1] in MALES:\n",
    "        angle_males_only.append(value)\n",
    "    else:\n",
    "        angle_non_males.append(value)"
   ]
  },
  {
   "cell_type": "code",
   "execution_count": 21,
   "metadata": {},
   "outputs": [
    {
     "data": {
      "text/plain": [
       "0.11812218475898842"
      ]
     },
     "execution_count": 21,
     "metadata": {},
     "output_type": "execute_result"
    }
   ],
   "source": [
    "np.mean(angle_males_only)"
   ]
  },
  {
   "cell_type": "code",
   "execution_count": 22,
   "metadata": {},
   "outputs": [
    {
     "data": {
      "text/plain": [
       "0.2381714578525366"
      ]
     },
     "execution_count": 22,
     "metadata": {},
     "output_type": "execute_result"
    }
   ],
   "source": [
    "np.mean(angle_non_males)"
   ]
  },
  {
   "cell_type": "code",
   "execution_count": 23,
   "metadata": {},
   "outputs": [],
   "source": [
    "area_males_only = []\n",
    "area_non_males = []\n",
    "\n",
    "for faces, value in area_ind_results.items():\n",
    "    if faces[0] in MALES and faces[1] in MALES:\n",
    "        area_males_only.append(value)\n",
    "    else:\n",
    "        area_non_males.append(value)"
   ]
  },
  {
   "cell_type": "code",
   "execution_count": 24,
   "metadata": {},
   "outputs": [
    {
     "data": {
      "text/plain": [
       "0.2159415238869559"
      ]
     },
     "execution_count": 24,
     "metadata": {},
     "output_type": "execute_result"
    }
   ],
   "source": [
    "np.mean(area_males_only)"
   ]
  },
  {
   "cell_type": "code",
   "execution_count": 25,
   "metadata": {},
   "outputs": [
    {
     "data": {
      "text/plain": [
       "0.38754346530956757"
      ]
     },
     "execution_count": 25,
     "metadata": {},
     "output_type": "execute_result"
    }
   ],
   "source": [
    "np.mean(area_non_males)"
   ]
  },
  {
   "cell_type": "code",
   "execution_count": 26,
   "metadata": {},
   "outputs": [],
   "source": [
    "angle_females_only = []\n",
    "angle_non_females = []\n",
    "\n",
    "for faces, value in angle_ind_results.items():\n",
    "    if faces[0] in FEMALES and faces[1] in FEMALES:\n",
    "        angle_females_only.append(value)\n",
    "    else:\n",
    "        angle_non_females.append(value)"
   ]
  },
  {
   "cell_type": "code",
   "execution_count": 27,
   "metadata": {},
   "outputs": [
    {
     "data": {
      "text/plain": [
       "0.2927876142383198"
      ]
     },
     "execution_count": 27,
     "metadata": {},
     "output_type": "execute_result"
    }
   ],
   "source": [
    "np.mean(angle_females_only)"
   ]
  },
  {
   "cell_type": "code",
   "execution_count": 28,
   "metadata": {},
   "outputs": [
    {
     "data": {
      "text/plain": [
       "0.1857718290087372"
      ]
     },
     "execution_count": 28,
     "metadata": {},
     "output_type": "execute_result"
    }
   ],
   "source": [
    "np.mean(angle_non_females)"
   ]
  },
  {
   "cell_type": "code",
   "execution_count": 29,
   "metadata": {},
   "outputs": [],
   "source": [
    "area_females_only = []\n",
    "area_non_females = []\n",
    "\n",
    "for faces, value in area_ind_results.items():\n",
    "    if faces[0] in FEMALES and faces[1] in FEMALES:\n",
    "        area_females_only.append(value)\n",
    "    else:\n",
    "        area_non_females.append(value)"
   ]
  },
  {
   "cell_type": "code",
   "execution_count": 30,
   "metadata": {},
   "outputs": [
    {
     "data": {
      "text/plain": [
       "0.5167840842159452"
      ]
     },
     "execution_count": 30,
     "metadata": {},
     "output_type": "execute_result"
    }
   ],
   "source": [
    "np.mean(area_females_only)"
   ]
  },
  {
   "cell_type": "code",
   "execution_count": 31,
   "metadata": {},
   "outputs": [
    {
     "data": {
      "text/plain": [
       "0.29729069721087076"
      ]
     },
     "execution_count": 31,
     "metadata": {},
     "output_type": "execute_result"
    }
   ],
   "source": [
    "np.mean(area_non_females)"
   ]
  },
  {
   "cell_type": "code",
   "execution_count": 32,
   "metadata": {},
   "outputs": [],
   "source": [
    "total_ind_sums = dict(collections.Counter(area_ind_results) + collections.Counter(angle_ind_results))\n",
    "total_ind_results = {key: total_ind_sums[key] / float((key in area_ind_results) + (key in angle_ind_results)) for key in total_ind_sums}"
   ]
  },
  {
   "cell_type": "code",
   "execution_count": 33,
   "metadata": {},
   "outputs": [],
   "source": [
    "total_bakers_only = []\n",
    "total_everyone_else = []\n",
    "\n",
    "for faces, value in total_ind_results.items():\n",
    "    if faces[0] in BAKERS and faces[1] in BAKERS:\n",
    "        total_bakers_only.append(value)\n",
    "    else:\n",
    "        total_everyone_else.append(value)"
   ]
  },
  {
   "cell_type": "code",
   "execution_count": 34,
   "metadata": {},
   "outputs": [
    {
     "data": {
      "text/plain": [
       "0.1437452529927603"
      ]
     },
     "execution_count": 34,
     "metadata": {},
     "output_type": "execute_result"
    }
   ],
   "source": [
    "np.mean(total_bakers_only)"
   ]
  },
  {
   "cell_type": "code",
   "execution_count": 35,
   "metadata": {},
   "outputs": [
    {
     "data": {
      "text/plain": [
       "0.31984344198011566"
      ]
     },
     "execution_count": 35,
     "metadata": {},
     "output_type": "execute_result"
    }
   ],
   "source": [
    "np.mean(total_everyone_else)"
   ]
  },
  {
   "cell_type": "code",
   "execution_count": 36,
   "metadata": {},
   "outputs": [],
   "source": [
    "total_ogdens_only = []\n",
    "total_non_ogdens = []\n",
    "\n",
    "for faces, value in total_ind_results.items():\n",
    "    if faces[0] in OGDENS and faces[1] in OGDENS:\n",
    "        total_ogdens_only.append(value)\n",
    "    else:\n",
    "        total_non_ogdens.append(value)"
   ]
  },
  {
   "cell_type": "code",
   "execution_count": 37,
   "metadata": {},
   "outputs": [
    {
     "data": {
      "text/plain": [
       "0.4148243366769974"
      ]
     },
     "execution_count": 37,
     "metadata": {},
     "output_type": "execute_result"
    }
   ],
   "source": [
    "np.mean(total_ogdens_only)"
   ]
  },
  {
   "cell_type": "code",
   "execution_count": 38,
   "metadata": {},
   "outputs": [
    {
     "data": {
      "text/plain": [
       "0.26246231956402577"
      ]
     },
     "execution_count": 38,
     "metadata": {},
     "output_type": "execute_result"
    }
   ],
   "source": [
    "np.mean(total_non_ogdens)"
   ]
  },
  {
   "cell_type": "code",
   "execution_count": 39,
   "metadata": {},
   "outputs": [],
   "source": [
    "total_males_only = []\n",
    "total_non_males = []\n",
    "\n",
    "for faces, value in total_ind_results.items():\n",
    "    if faces[0] in MALES and faces[1] in MALES:\n",
    "        total_males_only.append(value)\n",
    "    else:\n",
    "        total_non_males.append(value)"
   ]
  },
  {
   "cell_type": "code",
   "execution_count": 40,
   "metadata": {},
   "outputs": [
    {
     "data": {
      "text/plain": [
       "0.16703185432297213"
      ]
     },
     "execution_count": 40,
     "metadata": {},
     "output_type": "execute_result"
    }
   ],
   "source": [
    "np.mean(total_males_only)"
   ]
  },
  {
   "cell_type": "code",
   "execution_count": 41,
   "metadata": {},
   "outputs": [
    {
     "data": {
      "text/plain": [
       "0.3128574615810521"
      ]
     },
     "execution_count": 41,
     "metadata": {},
     "output_type": "execute_result"
    }
   ],
   "source": [
    "np.mean(total_non_males)"
   ]
  },
  {
   "cell_type": "code",
   "execution_count": 42,
   "metadata": {},
   "outputs": [],
   "source": [
    "total_females_only = []\n",
    "total_non_females = []\n",
    "\n",
    "for faces, value in total_ind_results.items():\n",
    "    if faces[0] in FEMALES and faces[1] in FEMALES:\n",
    "        total_females_only.append(value)\n",
    "    else:\n",
    "        total_non_females.append(value)"
   ]
  },
  {
   "cell_type": "code",
   "execution_count": 43,
   "metadata": {},
   "outputs": [
    {
     "data": {
      "text/plain": [
       "0.4047858492271325"
      ]
     },
     "execution_count": 43,
     "metadata": {},
     "output_type": "execute_result"
    }
   ],
   "source": [
    "np.mean(total_females_only)"
   ]
  },
  {
   "cell_type": "code",
   "execution_count": 44,
   "metadata": {},
   "outputs": [
    {
     "data": {
      "text/plain": [
       "0.24153126310980397"
      ]
     },
     "execution_count": 44,
     "metadata": {},
     "output_type": "execute_result"
    }
   ],
   "source": [
    "np.mean(total_non_females)"
   ]
  },
  {
   "cell_type": "code",
   "execution_count": null,
   "metadata": {},
   "outputs": [],
   "source": []
  },
  {
   "cell_type": "markdown",
   "metadata": {},
   "source": [
    "#### Group Results"
   ]
  },
  {
   "cell_type": "code",
   "execution_count": 45,
   "metadata": {},
   "outputs": [],
   "source": [
    "angle_bakers_only = []\n",
    "angle_everyone_else = []\n",
    "\n",
    "for faces, value in angle_group_results.items():\n",
    "    if faces[0] in BAKERS and faces[1] == \"BAKERS\":\n",
    "        angle_bakers_only.append(value)\n",
    "    elif faces[1] == \"BAKERS\":\n",
    "        angle_everyone_else.append(value)"
   ]
  },
  {
   "cell_type": "code",
   "execution_count": 46,
   "metadata": {},
   "outputs": [
    {
     "data": {
      "text/plain": [
       "0.10558405145515562"
      ]
     },
     "execution_count": 46,
     "metadata": {},
     "output_type": "execute_result"
    }
   ],
   "source": [
    "np.mean(angle_bakers_only)"
   ]
  },
  {
   "cell_type": "code",
   "execution_count": 47,
   "metadata": {},
   "outputs": [
    {
     "data": {
      "text/plain": [
       "0.14252480780660667"
      ]
     },
     "execution_count": 47,
     "metadata": {},
     "output_type": "execute_result"
    }
   ],
   "source": [
    "np.mean(angle_everyone_else)"
   ]
  },
  {
   "cell_type": "code",
   "execution_count": 48,
   "metadata": {},
   "outputs": [],
   "source": [
    "area_bakers_only = []\n",
    "area_everyone_else = []\n",
    "\n",
    "for faces, value in area_group_results.items():\n",
    "    if faces[0] in BAKERS and faces[1] == \"BAKERS\":\n",
    "        area_bakers_only.append(value)\n",
    "    elif faces[1] == \"BAKERS\":\n",
    "        area_everyone_else.append(value)"
   ]
  },
  {
   "cell_type": "code",
   "execution_count": 49,
   "metadata": {},
   "outputs": [
    {
     "data": {
      "text/plain": [
       "0.15689112975245303"
      ]
     },
     "execution_count": 49,
     "metadata": {},
     "output_type": "execute_result"
    }
   ],
   "source": [
    "np.mean(area_bakers_only)"
   ]
  },
  {
   "cell_type": "code",
   "execution_count": 50,
   "metadata": {},
   "outputs": [
    {
     "data": {
      "text/plain": [
       "0.21410785221482082"
      ]
     },
     "execution_count": 50,
     "metadata": {},
     "output_type": "execute_result"
    }
   ],
   "source": [
    "np.mean(area_everyone_else)"
   ]
  },
  {
   "cell_type": "code",
   "execution_count": 51,
   "metadata": {},
   "outputs": [],
   "source": [
    "angle_ogdens_only = []\n",
    "angle_non_ogdens = []\n",
    "\n",
    "for faces, value in angle_group_results.items():\n",
    "    if faces[0] in OGDENS and faces[1] == \"OGDENS\":\n",
    "        angle_ogdens_only.append(value)\n",
    "    elif faces[1] == \"OGDENS\":\n",
    "        angle_non_ogdens.append(value)"
   ]
  },
  {
   "cell_type": "code",
   "execution_count": 52,
   "metadata": {},
   "outputs": [
    {
     "data": {
      "text/plain": [
       "0.17337335915944457"
      ]
     },
     "execution_count": 52,
     "metadata": {},
     "output_type": "execute_result"
    }
   ],
   "source": [
    "np.mean(angle_ogdens_only)"
   ]
  },
  {
   "cell_type": "code",
   "execution_count": 53,
   "metadata": {},
   "outputs": [
    {
     "data": {
      "text/plain": [
       "0.2942553997417244"
      ]
     },
     "execution_count": 53,
     "metadata": {},
     "output_type": "execute_result"
    }
   ],
   "source": [
    "np.mean(angle_non_ogdens)"
   ]
  },
  {
   "cell_type": "code",
   "execution_count": 54,
   "metadata": {},
   "outputs": [],
   "source": [
    "area_ogdens_only = []\n",
    "area_non_ogdens = []\n",
    "\n",
    "for faces, value in area_group_results.items():\n",
    "    if faces[0] in OGDENS and faces[1] == \"OGDENS\":\n",
    "        area_ogdens_only.append(value)\n",
    "    elif faces[1] == \"OGDENS\":\n",
    "        area_non_ogdens.append(value)"
   ]
  },
  {
   "cell_type": "code",
   "execution_count": 55,
   "metadata": {},
   "outputs": [
    {
     "data": {
      "text/plain": [
       "0.31434354872971587"
      ]
     },
     "execution_count": 55,
     "metadata": {},
     "output_type": "execute_result"
    }
   ],
   "source": [
    "np.mean(area_ogdens_only)"
   ]
  },
  {
   "cell_type": "code",
   "execution_count": 56,
   "metadata": {},
   "outputs": [
    {
     "data": {
      "text/plain": [
       "0.71881581741997"
      ]
     },
     "execution_count": 56,
     "metadata": {},
     "output_type": "execute_result"
    }
   ],
   "source": [
    "np.mean(area_non_ogdens)"
   ]
  },
  {
   "cell_type": "code",
   "execution_count": 57,
   "metadata": {},
   "outputs": [],
   "source": [
    "angle_males_only = []\n",
    "angle_non_males = []\n",
    "\n",
    "for faces, value in angle_group_results.items():\n",
    "    if faces[0] in MALES and faces[1] == \"MALES\":\n",
    "        angle_males_only.append(value)\n",
    "    elif faces[1] == \"MALES\":\n",
    "        angle_non_males.append(value)"
   ]
  },
  {
   "cell_type": "code",
   "execution_count": 58,
   "metadata": {},
   "outputs": [
    {
     "data": {
      "text/plain": [
       "0.1102163771784288"
      ]
     },
     "execution_count": 58,
     "metadata": {},
     "output_type": "execute_result"
    }
   ],
   "source": [
    "np.mean(angle_males_only)"
   ]
  },
  {
   "cell_type": "code",
   "execution_count": 59,
   "metadata": {},
   "outputs": [
    {
     "data": {
      "text/plain": [
       "0.12443823032300386"
      ]
     },
     "execution_count": 59,
     "metadata": {},
     "output_type": "execute_result"
    }
   ],
   "source": [
    "np.mean(angle_non_males)"
   ]
  },
  {
   "cell_type": "code",
   "execution_count": 60,
   "metadata": {},
   "outputs": [],
   "source": [
    "area_males_only = []\n",
    "area_non_males = []\n",
    "\n",
    "for faces, value in area_group_results.items():\n",
    "    if faces[0] in MALES and faces[1] == \"MALES\":\n",
    "        area_males_only.append(value)\n",
    "    elif faces[1] == \"MALES\":\n",
    "        area_non_males.append(value)"
   ]
  },
  {
   "cell_type": "code",
   "execution_count": 61,
   "metadata": {},
   "outputs": [
    {
     "data": {
      "text/plain": [
       "0.2118188245087674"
      ]
     },
     "execution_count": 61,
     "metadata": {},
     "output_type": "execute_result"
    }
   ],
   "source": [
    "np.mean(area_males_only)"
   ]
  },
  {
   "cell_type": "code",
   "execution_count": 62,
   "metadata": {},
   "outputs": [
    {
     "data": {
      "text/plain": [
       "0.25604402134183196"
      ]
     },
     "execution_count": 62,
     "metadata": {},
     "output_type": "execute_result"
    }
   ],
   "source": [
    "np.mean(area_non_males)"
   ]
  },
  {
   "cell_type": "code",
   "execution_count": 63,
   "metadata": {},
   "outputs": [],
   "source": [
    "angle_females_only = []\n",
    "angle_non_females = []\n",
    "\n",
    "for faces, value in angle_group_results.items():\n",
    "    if faces[0] in FEMALES and faces[1] == \"FEMALES\":\n",
    "        angle_females_only.append(value)\n",
    "    elif faces[1] == \"FEMALES\":\n",
    "        angle_non_females.append(value)"
   ]
  },
  {
   "cell_type": "code",
   "execution_count": 64,
   "metadata": {},
   "outputs": [
    {
     "data": {
      "text/plain": [
       "0.18306941609731744"
      ]
     },
     "execution_count": 64,
     "metadata": {},
     "output_type": "execute_result"
    }
   ],
   "source": [
    "np.mean(angle_females_only)"
   ]
  },
  {
   "cell_type": "code",
   "execution_count": 65,
   "metadata": {},
   "outputs": [
    {
     "data": {
      "text/plain": [
       "0.17045083584301787"
      ]
     },
     "execution_count": 65,
     "metadata": {},
     "output_type": "execute_result"
    }
   ],
   "source": [
    "np.mean(angle_non_females)"
   ]
  },
  {
   "cell_type": "code",
   "execution_count": 66,
   "metadata": {},
   "outputs": [],
   "source": [
    "area_females_only = []\n",
    "area_non_females = []\n",
    "\n",
    "for faces, value in area_group_results.items():\n",
    "    if faces[0] in FEMALES and faces[1] == \"FEMALES\":\n",
    "        area_females_only.append(value)\n",
    "    elif faces[1] == \"FEMALES\":\n",
    "        area_non_females.append(value)"
   ]
  },
  {
   "cell_type": "code",
   "execution_count": 67,
   "metadata": {},
   "outputs": [
    {
     "data": {
      "text/plain": [
       "0.44164019957530753"
      ]
     },
     "execution_count": 67,
     "metadata": {},
     "output_type": "execute_result"
    }
   ],
   "source": [
    "np.mean(area_females_only)"
   ]
  },
  {
   "cell_type": "code",
   "execution_count": 68,
   "metadata": {},
   "outputs": [
    {
     "data": {
      "text/plain": [
       "0.34780558588311095"
      ]
     },
     "execution_count": 68,
     "metadata": {},
     "output_type": "execute_result"
    }
   ],
   "source": [
    "np.mean(area_non_females)"
   ]
  },
  {
   "cell_type": "code",
   "execution_count": 69,
   "metadata": {},
   "outputs": [],
   "source": [
    "total_group_sums = dict(collections.Counter(area_group_results) + collections.Counter(angle_group_results))\n",
    "total_group_results = {key: total_group_sums[key] / float((key in area_group_results) + (key in angle_group_results)) for key in total_group_sums}\n"
   ]
  },
  {
   "cell_type": "code",
   "execution_count": 70,
   "metadata": {},
   "outputs": [],
   "source": [
    "total_bakers_only = []\n",
    "total_everyone_else = []\n",
    "\n",
    "for faces, value in total_group_results.items():\n",
    "    if faces[0] in BAKERS and faces[1] == \"BAKERS\":\n",
    "        total_bakers_only.append(value)\n",
    "    elif faces[1] == \"BAKERS\":\n",
    "        total_everyone_else.append(value)"
   ]
  },
  {
   "cell_type": "code",
   "execution_count": 71,
   "metadata": {},
   "outputs": [
    {
     "data": {
      "text/plain": [
       "0.13123759060380433"
      ]
     },
     "execution_count": 71,
     "metadata": {},
     "output_type": "execute_result"
    }
   ],
   "source": [
    "np.mean(total_bakers_only)"
   ]
  },
  {
   "cell_type": "code",
   "execution_count": 72,
   "metadata": {},
   "outputs": [
    {
     "data": {
      "text/plain": [
       "0.17831633001071379"
      ]
     },
     "execution_count": 72,
     "metadata": {},
     "output_type": "execute_result"
    }
   ],
   "source": [
    "np.mean(total_everyone_else)"
   ]
  },
  {
   "cell_type": "code",
   "execution_count": 73,
   "metadata": {},
   "outputs": [],
   "source": [
    "total_ogdens_only = []\n",
    "total_non_ogdens = []\n",
    "\n",
    "for faces, value in total_group_results.items():\n",
    "    if faces[0] in OGDENS and faces[1] == \"OGDENS\":\n",
    "        total_ogdens_only.append(value)\n",
    "    elif faces[1] == \"OGDENS\":\n",
    "        total_non_ogdens.append(value)"
   ]
  },
  {
   "cell_type": "code",
   "execution_count": 74,
   "metadata": {},
   "outputs": [
    {
     "data": {
      "text/plain": [
       "0.24385845394458022"
      ]
     },
     "execution_count": 74,
     "metadata": {},
     "output_type": "execute_result"
    }
   ],
   "source": [
    "np.mean(total_ogdens_only)"
   ]
  },
  {
   "cell_type": "code",
   "execution_count": 75,
   "metadata": {},
   "outputs": [
    {
     "data": {
      "text/plain": [
       "0.5065356085808471"
      ]
     },
     "execution_count": 75,
     "metadata": {},
     "output_type": "execute_result"
    }
   ],
   "source": [
    "np.mean(total_non_ogdens)"
   ]
  },
  {
   "cell_type": "code",
   "execution_count": 76,
   "metadata": {},
   "outputs": [],
   "source": [
    "total_males_only = []\n",
    "total_non_males = []\n",
    "\n",
    "for faces, value in total_group_results.items():\n",
    "    if faces[0] in MALES and faces[1] == \"MALES\":\n",
    "        total_males_only.append(value)\n",
    "    elif faces[1] == \"MALES\":\n",
    "        total_non_males.append(value)"
   ]
  },
  {
   "cell_type": "code",
   "execution_count": 77,
   "metadata": {},
   "outputs": [
    {
     "data": {
      "text/plain": [
       "0.16101760084359815"
      ]
     },
     "execution_count": 77,
     "metadata": {},
     "output_type": "execute_result"
    }
   ],
   "source": [
    "np.mean(total_males_only)"
   ]
  },
  {
   "cell_type": "code",
   "execution_count": 78,
   "metadata": {},
   "outputs": [
    {
     "data": {
      "text/plain": [
       "0.19024112583241795"
      ]
     },
     "execution_count": 78,
     "metadata": {},
     "output_type": "execute_result"
    }
   ],
   "source": [
    "np.mean(total_non_males)"
   ]
  },
  {
   "cell_type": "code",
   "execution_count": 79,
   "metadata": {},
   "outputs": [],
   "source": [
    "total_females_only = []\n",
    "total_non_females = []\n",
    "\n",
    "for faces, value in total_group_results.items():\n",
    "    if faces[0] in FEMALES and faces[1] == \"FEMALES\":\n",
    "        total_females_only.append(value)\n",
    "    elif faces[1] == \"FEMALES\":\n",
    "        total_non_females.append(value)"
   ]
  },
  {
   "cell_type": "code",
   "execution_count": 80,
   "metadata": {},
   "outputs": [
    {
     "data": {
      "text/plain": [
       "0.3123548078363125"
      ]
     },
     "execution_count": 80,
     "metadata": {},
     "output_type": "execute_result"
    }
   ],
   "source": [
    "np.mean(total_females_only)"
   ]
  },
  {
   "cell_type": "code",
   "execution_count": 81,
   "metadata": {},
   "outputs": [
    {
     "data": {
      "text/plain": [
       "0.2591282108630644"
      ]
     },
     "execution_count": 81,
     "metadata": {},
     "output_type": "execute_result"
    }
   ],
   "source": [
    "np.mean(total_non_females)"
   ]
  },
  {
   "cell_type": "code",
   "execution_count": null,
   "metadata": {},
   "outputs": [],
   "source": []
  }
 ],
 "metadata": {
  "kernelspec": {
   "display_name": "Python 3",
   "language": "python",
   "name": "python3"
  },
  "language_info": {
   "codemirror_mode": {
    "name": "ipython",
    "version": 3
   },
   "file_extension": ".py",
   "mimetype": "text/x-python",
   "name": "python",
   "nbconvert_exporter": "python",
   "pygments_lexer": "ipython3",
   "version": "3.7.7"
  }
 },
 "nbformat": 4,
 "nbformat_minor": 4
}
